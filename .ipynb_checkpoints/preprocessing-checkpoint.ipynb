{
 "cells": [
  {
   "cell_type": "code",
   "execution_count": 1,
   "metadata": {},
   "outputs": [],
   "source": [
    "import pandas as pd\n",
    "import io\n",
    "import numpy as np\n",
    "import csv"
   ]
  },
  {
   "cell_type": "code",
   "execution_count": 2,
   "metadata": {},
   "outputs": [],
   "source": [
    "train = pd.read_csv('training_data.csv')\n",
    "judging = pd.read_csv('contestant_judgment.csv')"
   ]
  },
  {
   "cell_type": "code",
   "execution_count": 3,
   "metadata": {},
   "outputs": [
    {
     "data": {
      "text/html": [
       "<div>\n",
       "<style scoped>\n",
       "    .dataframe tbody tr th:only-of-type {\n",
       "        vertical-align: middle;\n",
       "    }\n",
       "\n",
       "    .dataframe tbody tr th {\n",
       "        vertical-align: top;\n",
       "    }\n",
       "\n",
       "    .dataframe thead th {\n",
       "        text-align: right;\n",
       "    }\n",
       "</style>\n",
       "<table border=\"1\" class=\"dataframe\">\n",
       "  <thead>\n",
       "    <tr style=\"text-align: right;\">\n",
       "      <th></th>\n",
       "      <th>ID</th>\n",
       "      <th>User</th>\n",
       "      <th>Text</th>\n",
       "      <th>Sentiment</th>\n",
       "    </tr>\n",
       "  </thead>\n",
       "  <tbody>\n",
       "    <tr>\n",
       "      <th>0</th>\n",
       "      <td>864192</td>\n",
       "      <td>Carly_FTS</td>\n",
       "      <td>I *heart* filling up @dennisschaub desk   1 it...</td>\n",
       "      <td>1</td>\n",
       "    </tr>\n",
       "    <tr>\n",
       "      <th>1</th>\n",
       "      <td>523691</td>\n",
       "      <td>Open_Sourcing</td>\n",
       "      <td>#SocioMat - people create prettier, younger an...</td>\n",
       "      <td>1</td>\n",
       "    </tr>\n",
       "    <tr>\n",
       "      <th>2</th>\n",
       "      <td>584154</td>\n",
       "      <td>xxcharlx</td>\n",
       "      <td>no way i dont want the tour to end</td>\n",
       "      <td>0</td>\n",
       "    </tr>\n",
       "    <tr>\n",
       "      <th>3</th>\n",
       "      <td>1527961</td>\n",
       "      <td>andreapuddu</td>\n",
       "      <td>@HemalRadia Hi Amazing Brother! Sending Limitl...</td>\n",
       "      <td>1</td>\n",
       "    </tr>\n",
       "    <tr>\n",
       "      <th>4</th>\n",
       "      <td>28609</td>\n",
       "      <td>umbec</td>\n",
       "      <td>@flockmaster they are chocolate</td>\n",
       "      <td>1</td>\n",
       "    </tr>\n",
       "  </tbody>\n",
       "</table>\n",
       "</div>"
      ],
      "text/plain": [
       "        ID           User                                               Text  \\\n",
       "0   864192      Carly_FTS  I *heart* filling up @dennisschaub desk   1 it...   \n",
       "1   523691  Open_Sourcing  #SocioMat - people create prettier, younger an...   \n",
       "2   584154       xxcharlx                no way i dont want the tour to end    \n",
       "3  1527961    andreapuddu  @HemalRadia Hi Amazing Brother! Sending Limitl...   \n",
       "4    28609          umbec                   @flockmaster they are chocolate    \n",
       "\n",
       "   Sentiment  \n",
       "0          1  \n",
       "1          1  \n",
       "2          0  \n",
       "3          1  \n",
       "4          1  "
      ]
     },
     "execution_count": 3,
     "metadata": {},
     "output_type": "execute_result"
    }
   ],
   "source": [
    "train.head()"
   ]
  },
  {
   "cell_type": "markdown",
   "metadata": {},
   "source": [
    "# DATA PROCESSING"
   ]
  },
  {
   "cell_type": "code",
   "execution_count": 4,
   "metadata": {},
   "outputs": [
    {
     "name": "stderr",
     "output_type": "stream",
     "text": [
      "[nltk_data] Downloading package punkt to\n",
      "[nltk_data]     C:\\Users\\ayang3\\AppData\\Roaming\\nltk_data...\n",
      "[nltk_data]   Package punkt is already up-to-date!\n",
      "[nltk_data] Downloading package stopwords to\n",
      "[nltk_data]     C:\\Users\\ayang3\\AppData\\Roaming\\nltk_data...\n",
      "[nltk_data]   Package stopwords is already up-to-date!\n",
      "[nltk_data] Downloading package wordnet to\n",
      "[nltk_data]     C:\\Users\\ayang3\\AppData\\Roaming\\nltk_data...\n",
      "[nltk_data]   Package wordnet is already up-to-date!\n"
     ]
    }
   ],
   "source": [
    "import nltk\n",
    "import re\n",
    "nltk.download('punkt')\n",
    "from nltk.corpus import stopwords\n",
    "nltk.download('stopwords')\n",
    "from nltk.stem.wordnet import WordNetLemmatizer\n",
    "nltk.download('wordnet')\n",
    "from sklearn.feature_extraction.text import CountVectorizer"
   ]
  },
  {
   "cell_type": "code",
   "execution_count": 5,
   "metadata": {},
   "outputs": [
    {
     "data": {
      "text/html": [
       "<div>\n",
       "<style scoped>\n",
       "    .dataframe tbody tr th:only-of-type {\n",
       "        vertical-align: middle;\n",
       "    }\n",
       "\n",
       "    .dataframe tbody tr th {\n",
       "        vertical-align: top;\n",
       "    }\n",
       "\n",
       "    .dataframe thead th {\n",
       "        text-align: right;\n",
       "    }\n",
       "</style>\n",
       "<table border=\"1\" class=\"dataframe\">\n",
       "  <thead>\n",
       "    <tr style=\"text-align: right;\">\n",
       "      <th></th>\n",
       "      <th>ID</th>\n",
       "      <th>User</th>\n",
       "      <th>Text</th>\n",
       "      <th>Sentiment</th>\n",
       "    </tr>\n",
       "  </thead>\n",
       "  <tbody>\n",
       "    <tr>\n",
       "      <th>0</th>\n",
       "      <td>864192</td>\n",
       "      <td>Carly_FTS</td>\n",
       "      <td>[heart, filling, desk, means, sales, amp, desk]</td>\n",
       "      <td>1</td>\n",
       "    </tr>\n",
       "    <tr>\n",
       "      <th>1</th>\n",
       "      <td>523691</td>\n",
       "      <td>Open_Sourcing</td>\n",
       "      <td>[sociomat, people, create, prettier, younger, ...</td>\n",
       "      <td>1</td>\n",
       "    </tr>\n",
       "    <tr>\n",
       "      <th>2</th>\n",
       "      <td>584154</td>\n",
       "      <td>xxcharlx</td>\n",
       "      <td>[way, dont, want, tour, end]</td>\n",
       "      <td>0</td>\n",
       "    </tr>\n",
       "    <tr>\n",
       "      <th>3</th>\n",
       "      <td>1527961</td>\n",
       "      <td>andreapuddu</td>\n",
       "      <td>[hi, amazing, brother, sending, limitless, lov...</td>\n",
       "      <td>1</td>\n",
       "    </tr>\n",
       "    <tr>\n",
       "      <th>4</th>\n",
       "      <td>28609</td>\n",
       "      <td>umbec</td>\n",
       "      <td>[chocolate]</td>\n",
       "      <td>1</td>\n",
       "    </tr>\n",
       "  </tbody>\n",
       "</table>\n",
       "</div>"
      ],
      "text/plain": [
       "        ID           User                                               Text  \\\n",
       "0   864192      Carly_FTS    [heart, filling, desk, means, sales, amp, desk]   \n",
       "1   523691  Open_Sourcing  [sociomat, people, create, prettier, younger, ...   \n",
       "2   584154       xxcharlx                       [way, dont, want, tour, end]   \n",
       "3  1527961    andreapuddu  [hi, amazing, brother, sending, limitless, lov...   \n",
       "4    28609          umbec                                        [chocolate]   \n",
       "\n",
       "   Sentiment  \n",
       "0          1  \n",
       "1          1  \n",
       "2          0  \n",
       "3          1  \n",
       "4          1  "
      ]
     },
     "execution_count": 5,
     "metadata": {},
     "output_type": "execute_result"
    }
   ],
   "source": [
    "stop_words = set(stopwords.words('english'))\n",
    "filtered_sent = []\n",
    "\n",
    "for index, row in train.iterrows():\n",
    "    # Remove @s\n",
    "    train.at[index, 'Text'] = re.sub(r\"@[A-z]+\", \" \", train.at[index, 'Text'])\n",
    "    \n",
    "    # Remove punct\n",
    "    train.at[index, 'Text'] = re.sub(r\"\\W\", \" \", train.at[index, 'Text'])\n",
    "   \n",
    "    # Remove numbers\n",
    "    train.at[index, 'Text'] = re.sub(r\"\\d+\", \"\", train.at[index, 'Text'])\n",
    "   \n",
    "    # Remove spaces\n",
    "    train.at[index, 'Text'] = re.sub(r\"\\s+\", \" \", train.at[index, 'Text'])\n",
    "   \n",
    "    # Make lowercase\n",
    "    train.at[index, 'Text'] = str(train.at[index, 'Text']).lower()\n",
    "   \n",
    "    # Tokenize\n",
    "    train.at[index, 'Text'] = nltk.word_tokenize(train.at[index, 'Text'])\n",
    "   \n",
    "    for w in train.at[index, 'Text']:\n",
    "        if w not in stop_words:\n",
    "            filtered_sent.append(w)\n",
    "        \n",
    "   \n",
    "    train.at[index, 'Text'] = filtered_sent\n",
    "    filtered_sent = []\n",
    "\n",
    "train.head()"
   ]
  },
  {
   "cell_type": "code",
   "execution_count": 6,
   "metadata": {},
   "outputs": [],
   "source": [
    "lemmatizer = WordNetLemmatizer()\n",
    "\n",
    "for index, row in train.iterrows():\n",
    "    newWords = []\n",
    "    \n",
    "    for word in train.at[index, 'Text']:\n",
    "        newWords.append(lemmatizer.lemmatize(word, pos = 'v'))\n",
    "     \n",
    "    train.at[index, 'Text'] = \" \".join(newWords)"
   ]
  },
  {
   "cell_type": "code",
   "execution_count": 8,
   "metadata": {},
   "outputs": [],
   "source": [
    "text = train.Text.tolist()\n",
    "sentiment = train.Sentiment.tolist()"
   ]
  },
  {
   "cell_type": "code",
   "execution_count": 9,
   "metadata": {},
   "outputs": [
    {
     "name": "stdout",
     "output_type": "stream",
     "text": [
      "   able  absolutely  abt  ac  accent  accept  access  accident  accidentally  \\\n",
      "0     0           0    0   0       0       0       0         0             0   \n",
      "1     0           0    0   0       0       0       0         0             0   \n",
      "2     0           0    0   0       0       0       0         0             0   \n",
      "3     0           0    0   0       0       0       0         0             0   \n",
      "4     0           0    0   0       0       0       0         0             0   \n",
      "\n",
      "   accomplish  ...  yrs  yu  yuck  yum  yummy  yup  zero  zone  zoo  Sentiment  \n",
      "0           0  ...    0   0     0    0      0    0     0     0    0          1  \n",
      "1           0  ...    0   0     0    0      0    0     0     0    0          1  \n",
      "2           0  ...    0   0     0    0      0    0     0     0    0          0  \n",
      "3           0  ...    0   0     0    0      0    0     0     0    0          1  \n",
      "4           0  ...    0   0     0    0      0    0     0     0    0          1  \n",
      "\n",
      "[5 rows x 3001 columns]\n"
     ]
    }
   ],
   "source": [
    "cv = CountVectorizer(max_features = 3000, lowercase = False)\n",
    "\n",
    "x = cv.fit_transform(train['Text']).toarray()\n",
    "y = train['Sentiment'].values\n",
    "\n",
    "header = cv.get_feature_names()\n",
    "output = pd.DataFrame(x, columns = header)\n",
    "output['Sentiment'] = train['Sentiment']\n",
    "\n",
    "print(output.head())"
   ]
  }
 ],
 "metadata": {
  "kernelspec": {
   "display_name": "Python 3",
   "language": "python",
   "name": "python3"
  },
  "language_info": {
   "codemirror_mode": {
    "name": "ipython",
    "version": 3
   },
   "file_extension": ".py",
   "mimetype": "text/x-python",
   "name": "python",
   "nbconvert_exporter": "python",
   "pygments_lexer": "ipython3",
   "version": "3.7.6"
  }
 },
 "nbformat": 4,
 "nbformat_minor": 4
}
